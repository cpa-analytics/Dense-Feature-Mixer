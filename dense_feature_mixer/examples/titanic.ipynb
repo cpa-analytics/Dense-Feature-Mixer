{
 "cells": [
  {
   "cell_type": "code",
   "execution_count": 1,
   "metadata": {},
   "outputs": [],
   "source": [
    "from sklearn.model_selection import train_test_split, cross_val_score\n",
    "from sklearn.linear_model import LogisticRegression\n",
    "from sklearn.compose import ColumnTransformer\n",
    "from sklearn.pipeline import make_pipeline\n",
    "from sklearn.preprocessing import StandardScaler\n",
    "from sklearn.impute import SimpleImputer\n",
    "from sklearn.datasets import fetch_openml\n",
    "\n",
    "from dense_feature_mixer import DenseFeatureMixer\n",
    "from dense_feature_mixer.compose import ColumnTransformerWithNames\n",
    "\n",
    "\n",
    "X, y = fetch_openml(\"titanic\", version=1, return_X_y=True, as_frame=True)\n",
    "X = X.drop([\"name\", \"ticket\", \"cabin\", \"boat\", \"body\"], axis=1)\n",
    "y = y.reindex(X.index).astype(int)\n",
    "numeric_vars = [\"age\", \"fare\"]\n",
    "categorical_vars = [\"sex\", \"pclass\", \"parch\", \"embarked\"]\n",
    "\n",
    "X_train, X_test, y_train, y_test = train_test_split(X, y, test_size=0.2)\n"
   ]
  },
  {
   "cell_type": "code",
   "execution_count": 2,
   "metadata": {},
   "outputs": [
    {
     "name": "stdout",
     "output_type": "stream",
     "text": [
      "Mean score: 0.78 (0.04)\n"
     ]
    }
   ],
   "source": [
    "dfm = DenseFeatureMixer(task=\"classification\", encode=True, unknown_category=999)\n",
    "num_pipe = make_pipeline(SimpleImputer(strategy=\"mean\"), StandardScaler())\n",
    "cat_pipe = make_pipeline(SimpleImputer(strategy=\"most_frequent\"), dfm)\n",
    "col_transformer = ColumnTransformer([(\"num_transformer\", num_pipe, numeric_vars),\n",
    "                                     (\"cat_transformer\", cat_pipe, categorical_vars)])\n",
    "\n",
    "pipe = make_pipeline(col_transformer,\n",
    "                     LogisticRegression())\n",
    "\n",
    "cv_score = cross_val_score(pipe, X_train, y_train, cv=3)\n",
    "print(f\"Mean score: {cv_score.mean():.2f} ({cv_score.std():.2f})\")"
   ]
  },
  {
   "cell_type": "code",
   "execution_count": 6,
   "metadata": {},
   "outputs": [
    {
     "name": "stdout",
     "output_type": "stream",
     "text": [
      "Mean score: nan (nan)\n"
     ]
    },
    {
     "name": "stderr",
     "output_type": "stream",
     "text": [
      "c:\\Users\\41801990\\Documents\\Code\\Dense-Feature-Mixer\\dense_feature_mixer\\core.py:135: FutureWarning: Using a non-tuple sequence for multidimensional indexing is deprecated; use `arr[tuple(seq)]` instead of `arr[seq]`. In the future this will be interpreted as an array index, `arr[np.array(seq)]`, which will result either in an error or a different result.\n",
      "  X_copy[self._categorical_vars] = self._ordinal_encoder.fit_transform(X_copy[self._categorical_vars])\n",
      "c:\\Users\\41801990\\Documents\\Code\\Dense-Feature-Mixer\\dense_feature_mixer\\core.py:135: FutureWarning: Using a non-tuple sequence for multidimensional indexing is deprecated; use `arr[tuple(seq)]` instead of `arr[seq]`. In the future this will be interpreted as an array index, `arr[np.array(seq)]`, which will result either in an error or a different result.\n",
      "  X_copy[self._categorical_vars] = self._ordinal_encoder.fit_transform(X_copy[self._categorical_vars])\n",
      "c:\\Users\\41801990\\Documents\\Code\\Dense-Feature-Mixer\\dense_feature_mixer\\core.py:135: FutureWarning: Using a non-tuple sequence for multidimensional indexing is deprecated; use `arr[tuple(seq)]` instead of `arr[seq]`. In the future this will be interpreted as an array index, `arr[np.array(seq)]`, which will result either in an error or a different result.\n",
      "  X_copy[self._categorical_vars] = self._ordinal_encoder.fit_transform(X_copy[self._categorical_vars])\n",
      "C:\\Users\\41801990\\Envs\\Dense-Feature-Mixer\\lib\\site-packages\\sklearn\\model_selection\\_validation.py:372: FitFailedWarning: \n",
      "3 fits failed out of a total of 3.\n",
      "The score on these train-test partitions for these parameters will be set to nan.\n",
      "If these failures are not expected, you can try to debug them by setting error_score='raise'.\n",
      "\n",
      "Below are more details about the failures:\n",
      "--------------------------------------------------------------------------------\n",
      "3 fits failed with the following error:\n",
      "Traceback (most recent call last):\n",
      "  File \"C:\\Users\\41801990\\Envs\\Dense-Feature-Mixer\\lib\\site-packages\\sklearn\\model_selection\\_validation.py\", line 680, in _fit_and_score\n",
      "    estimator.fit(X_train, y_train, **fit_params)\n",
      "  File \"C:\\Users\\41801990\\Envs\\Dense-Feature-Mixer\\lib\\site-packages\\sklearn\\pipeline.py\", line 390, in fit\n",
      "    Xt = self._fit(X, y, **fit_params_steps)\n",
      "  File \"C:\\Users\\41801990\\Envs\\Dense-Feature-Mixer\\lib\\site-packages\\sklearn\\pipeline.py\", line 355, in _fit\n",
      "    **fit_params_steps[name],\n",
      "  File \"C:\\Users\\41801990\\Envs\\Dense-Feature-Mixer\\lib\\site-packages\\joblib\\memory.py\", line 349, in __call__\n",
      "    return self.func(*args, **kwargs)\n",
      "  File \"C:\\Users\\41801990\\Envs\\Dense-Feature-Mixer\\lib\\site-packages\\sklearn\\pipeline.py\", line 893, in _fit_transform_one\n",
      "    res = transformer.fit_transform(X, y, **fit_params)\n",
      "  File \"C:\\Users\\41801990\\Envs\\Dense-Feature-Mixer\\lib\\site-packages\\sklearn\\base.py\", line 855, in fit_transform\n",
      "    return self.fit(X, y, **fit_params).transform(X)\n",
      "  File \"c:\\Users\\41801990\\Documents\\Code\\Dense-Feature-Mixer\\dense_feature_mixer\\core.py\", line 135, in fit\n",
      "    X_copy[self._categorical_vars] = self._ordinal_encoder.fit_transform(X_copy[self._categorical_vars])\n",
      "IndexError: only integers, slices (`:`), ellipsis (`...`), numpy.newaxis (`None`) and integer or boolean arrays are valid indices\n",
      "\n",
      "  warnings.warn(some_fits_failed_message, FitFailedWarning)\n"
     ]
    }
   ],
   "source": [
    "dfm = DenseFeatureMixer(task=\"classification\", categorical_vars=categorical_vars, \n",
    "                        numeric_vars=numeric_vars, encode=True, unknown_category=999)\n",
    "num_pipe = make_pipeline(SimpleImputer(strategy=\"mean\"), StandardScaler())\n",
    "cat_transformer = SimpleImputer(strategy=\"most_frequent\")\n",
    "col_transformer = ColumnTransformerWithNames([(\"num_transformer\", num_pipe, numeric_vars),\n",
    "                                              (\"cat_transformer\", cat_transformer, categorical_vars)])\n",
    "\n",
    "pipe = make_pipeline(col_transformer,\n",
    "                     dfm,\n",
    "                     LogisticRegression())\n",
    "\n",
    "cv_score = cross_val_score(pipe, X_train, y_train, cv=3)\n",
    "print(f\"Mean score: {cv_score.mean():.2f} ({cv_score.std():.2f})\")"
   ]
  },
  {
   "cell_type": "code",
   "execution_count": null,
   "metadata": {},
   "outputs": [],
   "source": []
  }
 ],
 "metadata": {
  "interpreter": {
   "hash": "f2ed7e2f6f4844a3a1abca9d4890c18a6d360db2f5fe51382655934a7a89565d"
  },
  "kernelspec": {
   "display_name": "Python 3.7.9 64-bit ('Dense-Feature-Mixer': virtualenv)",
   "language": "python",
   "name": "python3"
  },
  "language_info": {
   "codemirror_mode": {
    "name": "ipython",
    "version": 3
   },
   "file_extension": ".py",
   "mimetype": "text/x-python",
   "name": "python",
   "nbconvert_exporter": "python",
   "pygments_lexer": "ipython3",
   "version": "3.7.9"
  },
  "orig_nbformat": 4
 },
 "nbformat": 4,
 "nbformat_minor": 2
}
