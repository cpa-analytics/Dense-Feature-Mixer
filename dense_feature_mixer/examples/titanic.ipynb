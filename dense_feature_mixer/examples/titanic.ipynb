{
 "cells": [
  {
   "cell_type": "code",
   "execution_count": 21,
   "metadata": {},
   "outputs": [],
   "source": [
    "from sklearn.model_selection import train_test_split\n",
    "from sklearn.linear_model import LogisticRegression\n",
    "from sklearn.pipeline import make_pipeline\n",
    "from sklearn.compose import make_column_transformer\n",
    "from sklearn.preprocessing import StandardScaler, OrdinalEncoder\n",
    "from sklearn.datasets import fetch_openml\n",
    "\n",
    "from dense_feature_mixer import DenseFeatureMixer\n",
    "\n",
    "\n",
    "X, y = fetch_openml(\"titanic\", version=1, return_X_y=True, as_frame=True)\n",
    "X = X.drop([\"name\", \"ticket\", \"cabin\", \"boat\", \"body\"], axis=1).dropna()\n",
    "y = y.reindex(X.index).astype(int)\n",
    "numeric_vars = [\"age\", \"fare\"]\n",
    "categorical_vars = [\"sex\", \"sibsp\", \"parch\", \"embarked\", \"home.dest\", \"pclass\"]\n",
    "\n",
    "X_train, X_test, y_train, y_test = train_test_split(X, y, test_size=0.2)\n"
   ]
  },
  {
   "cell_type": "code",
   "execution_count": 26,
   "metadata": {},
   "outputs": [
    {
     "data": {
      "text/plain": [
       "0.7591240875912408"
      ]
     },
     "execution_count": 26,
     "metadata": {},
     "output_type": "execute_result"
    }
   ],
   "source": [
    "encoder = OrdinalEncoder(handle_unknown=\"use_encoded_value\", unknown_value=999)\n",
    "X_train[categorical_vars] = encoder.fit_transform(X_train[categorical_vars])\n",
    "X_test[categorical_vars] = encoder.transform(X_test[categorical_vars])\n",
    "\n",
    "num_transformer = make_column_transformer((StandardScaler(), numeric_vars), remainder=\"passthrough\")\n",
    "\n",
    "pipe = make_pipeline(DenseFeatureMixer(task=\"classification\",\n",
    "                                       categorical_vars=categorical_vars,\n",
    "                                       unknown_category=999),\n",
    "                     num_transformer,\n",
    "                     LogisticRegression())\n",
    "pipe.fit(X_train, y_train)\n",
    "pipe.score(X_test, y_test)"
   ]
  },
  {
   "cell_type": "code",
   "execution_count": null,
   "metadata": {},
   "outputs": [],
   "source": []
  }
 ],
 "metadata": {
  "interpreter": {
   "hash": "f2ed7e2f6f4844a3a1abca9d4890c18a6d360db2f5fe51382655934a7a89565d"
  },
  "kernelspec": {
   "display_name": "Python 3.7.9 64-bit ('Dense-Feature-Mixer': virtualenv)",
   "language": "python",
   "name": "python3"
  },
  "language_info": {
   "codemirror_mode": {
    "name": "ipython",
    "version": 3
   },
   "file_extension": ".py",
   "mimetype": "text/x-python",
   "name": "python",
   "nbconvert_exporter": "python",
   "pygments_lexer": "ipython3",
   "version": "3.7.9"
  },
  "orig_nbformat": 4
 },
 "nbformat": 4,
 "nbformat_minor": 2
}
