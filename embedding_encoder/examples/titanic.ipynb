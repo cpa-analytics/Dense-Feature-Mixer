{
 "cells": [
  {
   "cell_type": "code",
   "execution_count": 1,
   "metadata": {},
   "outputs": [],
   "source": [
    "from sklearn.model_selection import train_test_split, cross_val_score\n",
    "from sklearn.linear_model import LogisticRegression\n",
    "from sklearn.compose import ColumnTransformer\n",
    "from sklearn.pipeline import make_pipeline\n",
    "from sklearn.preprocessing import StandardScaler\n",
    "from sklearn.impute import SimpleImputer\n",
    "from sklearn.datasets import fetch_openml\n",
    "\n",
    "from embedding_encoder import EmbeddingEncoder\n",
    "\n",
    "\n",
    "X, y = fetch_openml(\"titanic\", version=1, return_X_y=True, as_frame=True)\n",
    "X = X.drop([\"name\", \"ticket\", \"cabin\", \"boat\", \"body\"], axis=1)\n",
    "y = y.reindex(X.index).astype(int)\n",
    "numeric_vars = [\"age\", \"fare\"]\n",
    "categorical_vars = [\"sex\", \"pclass\", \"parch\", \"embarked\"]\n",
    "\n",
    "X_train, X_test, y_train, y_test = train_test_split(X, y, test_size=0.2)"
   ]
  },
  {
   "cell_type": "code",
   "execution_count": 2,
   "metadata": {},
   "outputs": [
    {
     "name": "stdout",
     "output_type": "stream",
     "text": [
      "Mean score: 0.79 (0.00)\n"
     ]
    }
   ],
   "source": [
    "ee = EmbeddingEncoder(task=\"classification\", epochs=10)\n",
    "num_pipe = make_pipeline(SimpleImputer(strategy=\"mean\"), StandardScaler())\n",
    "cat_pipe = make_pipeline(SimpleImputer(strategy=\"most_frequent\"), ee)\n",
    "col_transformer = ColumnTransformer([(\"num_transformer\", num_pipe, numeric_vars),\n",
    "                                     (\"cat_transformer\", cat_pipe, categorical_vars)])\n",
    "\n",
    "pipe = make_pipeline(col_transformer,\n",
    "                     LogisticRegression())\n",
    "\n",
    "cv_score = cross_val_score(pipe, X_train, y_train, cv=3)\n",
    "print(f\"Mean score: {cv_score.mean():.2f} ({cv_score.std():.2f})\")"
   ]
  },
  {
   "cell_type": "code",
   "execution_count": 3,
   "metadata": {},
   "outputs": [
    {
     "name": "stdout",
     "output_type": "stream",
     "text": [
      "Mean score: 0.78 (0.01)\n"
     ]
    }
   ],
   "source": [
    "from embedding_encoder.compose import ColumnTransformerWithNames\n",
    "\n",
    "ee = EmbeddingEncoder(task=\"classification\", numeric_vars=numeric_vars,\n",
    "                      epochs=10)\n",
    "num_pipe = make_pipeline(SimpleImputer(strategy=\"mean\"), StandardScaler())\n",
    "cat_transformer = SimpleImputer(strategy=\"most_frequent\")\n",
    "col_transformer = ColumnTransformerWithNames([(\"num_transformer\", num_pipe, numeric_vars),\n",
    "                                              (\"cat_transformer\", cat_transformer, categorical_vars)])\n",
    "\n",
    "pipe = make_pipeline(col_transformer,\n",
    "                     ee,\n",
    "                     LogisticRegression())\n",
    "\n",
    "cv_score = cross_val_score(pipe, X_train, y_train, cv=3)\n",
    "print(f\"Mean score: {cv_score.mean():.2f} ({cv_score.std():.2f})\")"
   ]
  },
  {
   "cell_type": "code",
   "execution_count": null,
   "metadata": {},
   "outputs": [],
   "source": []
  }
 ],
 "metadata": {
  "interpreter": {
   "hash": "f2ed7e2f6f4844a3a1abca9d4890c18a6d360db2f5fe51382655934a7a89565d"
  },
  "kernelspec": {
   "display_name": "Python 3.7.9 64-bit ('Dense-Feature-Mixer': virtualenv)",
   "language": "python",
   "name": "python3"
  },
  "language_info": {
   "codemirror_mode": {
    "name": "ipython",
    "version": 3
   },
   "file_extension": ".py",
   "mimetype": "text/x-python",
   "name": "python",
   "nbconvert_exporter": "python",
   "pygments_lexer": "ipython3",
   "version": "3.7.9"
  },
  "orig_nbformat": 4
 },
 "nbformat": 4,
 "nbformat_minor": 2
}
